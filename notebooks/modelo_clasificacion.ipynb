{
 "cells": [
  {
   "cell_type": "markdown",
   "id": "dadd1c87-19c8-4963-a889-b3cb591fa013",
   "metadata": {},
   "source": [
    "### Importación de librerías"
   ]
  },
  {
   "cell_type": "code",
   "execution_count": 1,
   "id": "17549267-b2ad-4be9-8981-0c546d5cfe8a",
   "metadata": {},
   "outputs": [],
   "source": [
    "import pandas as pd\n",
    "import numpy as np\n",
    "import matplotlib.pyplot as plt\n",
    "import seaborn as sns\n",
    "import datetime as dt\n",
    "from sklearn.model_selection import train_test_split\n",
    "from sklearn.preprocessing import StandardScaler, OneHotEncoder\n",
    "from sklearn.compose import ColumnTransformer\n",
    "from sklearn.pipeline import Pipeline\n",
    "from sklearn.ensemble import RandomForestClassifier\n",
    "import xgboost as xgb\n",
    "from sklearn.svm import SVC\n",
    "from sklearn.metrics import classification_report\n",
    "from imblearn.over_sampling import SMOTE\n",
    "from imblearn.pipeline import Pipeline as ImbPipeline\n",
    "from sklearn.model_selection import cross_val_score\n",
    "import pickle"
   ]
  },
  {
   "cell_type": "code",
   "execution_count": 2,
   "id": "20216261-bb5f-4361-a4e3-5418b3e629d3",
   "metadata": {},
   "outputs": [],
   "source": [
    "df = pd.read_csv(\"../data/info_02.csv\")"
   ]
  },
  {
   "cell_type": "markdown",
   "id": "171899a6-ba8e-4f6b-92b6-dba81a458057",
   "metadata": {},
   "source": [
    "## Análisis Exploratorio"
   ]
  },
  {
   "cell_type": "code",
   "execution_count": 3,
   "id": "e85b01fd-c36a-4357-9c32-9cb8eb6701e2",
   "metadata": {},
   "outputs": [
    {
     "data": {
      "text/html": [
       "<div>\n",
       "<style scoped>\n",
       "    .dataframe tbody tr th:only-of-type {\n",
       "        vertical-align: middle;\n",
       "    }\n",
       "\n",
       "    .dataframe tbody tr th {\n",
       "        vertical-align: top;\n",
       "    }\n",
       "\n",
       "    .dataframe thead th {\n",
       "        text-align: right;\n",
       "    }\n",
       "</style>\n",
       "<table border=\"1\" class=\"dataframe\">\n",
       "  <thead>\n",
       "    <tr style=\"text-align: right;\">\n",
       "      <th></th>\n",
       "      <th>id</th>\n",
       "      <th>id2</th>\n",
       "      <th>v1</th>\n",
       "      <th>c1</th>\n",
       "      <th>v2</th>\n",
       "    </tr>\n",
       "  </thead>\n",
       "  <tbody>\n",
       "    <tr>\n",
       "      <th>count</th>\n",
       "      <td>17286.000000</td>\n",
       "      <td>17286.000000</td>\n",
       "      <td>17286.000000</td>\n",
       "      <td>17286.000000</td>\n",
       "      <td>17286.000000</td>\n",
       "    </tr>\n",
       "    <tr>\n",
       "      <th>mean</th>\n",
       "      <td>4075.651047</td>\n",
       "      <td>4075.651047</td>\n",
       "      <td>119.141542</td>\n",
       "      <td>0.211674</td>\n",
       "      <td>20.617257</td>\n",
       "    </tr>\n",
       "    <tr>\n",
       "      <th>std</th>\n",
       "      <td>2347.052912</td>\n",
       "      <td>2347.052912</td>\n",
       "      <td>194.511597</td>\n",
       "      <td>0.408507</td>\n",
       "      <td>1.018207</td>\n",
       "    </tr>\n",
       "    <tr>\n",
       "      <th>min</th>\n",
       "      <td>1.000000</td>\n",
       "      <td>1.000000</td>\n",
       "      <td>0.000000</td>\n",
       "      <td>0.000000</td>\n",
       "      <td>19.000000</td>\n",
       "    </tr>\n",
       "    <tr>\n",
       "      <th>25%</th>\n",
       "      <td>2042.250000</td>\n",
       "      <td>2042.250000</td>\n",
       "      <td>0.000000</td>\n",
       "      <td>0.000000</td>\n",
       "      <td>19.700000</td>\n",
       "    </tr>\n",
       "    <tr>\n",
       "      <th>50%</th>\n",
       "      <td>4086.000000</td>\n",
       "      <td>4086.000000</td>\n",
       "      <td>0.000000</td>\n",
       "      <td>0.000000</td>\n",
       "      <td>20.400000</td>\n",
       "    </tr>\n",
       "    <tr>\n",
       "      <th>75%</th>\n",
       "      <td>6102.750000</td>\n",
       "      <td>6102.750000</td>\n",
       "      <td>252.000000</td>\n",
       "      <td>0.000000</td>\n",
       "      <td>21.400000</td>\n",
       "    </tr>\n",
       "    <tr>\n",
       "      <th>max</th>\n",
       "      <td>8143.000000</td>\n",
       "      <td>8143.000000</td>\n",
       "      <td>1546.300000</td>\n",
       "      <td>1.000000</td>\n",
       "      <td>23.200000</td>\n",
       "    </tr>\n",
       "  </tbody>\n",
       "</table>\n",
       "</div>"
      ],
      "text/plain": [
       "                 id           id2            v1            c1            v2\n",
       "count  17286.000000  17286.000000  17286.000000  17286.000000  17286.000000\n",
       "mean    4075.651047   4075.651047    119.141542      0.211674     20.617257\n",
       "std     2347.052912   2347.052912    194.511597      0.408507      1.018207\n",
       "min        1.000000      1.000000      0.000000      0.000000     19.000000\n",
       "25%     2042.250000   2042.250000      0.000000      0.000000     19.700000\n",
       "50%     4086.000000   4086.000000      0.000000      0.000000     20.400000\n",
       "75%     6102.750000   6102.750000    252.000000      0.000000     21.400000\n",
       "max     8143.000000   8143.000000   1546.300000      1.000000     23.200000"
      ]
     },
     "execution_count": 3,
     "metadata": {},
     "output_type": "execute_result"
    }
   ],
   "source": [
    "df.describe()"
   ]
  },
  {
   "cell_type": "code",
   "execution_count": 4,
   "id": "4fddeb09-5da4-4bb5-b1c4-7cc282ba72cc",
   "metadata": {},
   "outputs": [
    {
     "data": {
      "text/plain": [
       "id       int64\n",
       "id2      int64\n",
       "v1     float64\n",
       "c1       int64\n",
       "v2     float64\n",
       "v3      object\n",
       "dtype: object"
      ]
     },
     "execution_count": 4,
     "metadata": {},
     "output_type": "execute_result"
    }
   ],
   "source": [
    "df.dtypes"
   ]
  },
  {
   "cell_type": "code",
   "execution_count": 5,
   "id": "0ec914e0-9e10-4eeb-93ae-f08fa36d74ec",
   "metadata": {},
   "outputs": [
    {
     "data": {
      "text/html": [
       "<div>\n",
       "<style scoped>\n",
       "    .dataframe tbody tr th:only-of-type {\n",
       "        vertical-align: middle;\n",
       "    }\n",
       "\n",
       "    .dataframe tbody tr th {\n",
       "        vertical-align: top;\n",
       "    }\n",
       "\n",
       "    .dataframe thead th {\n",
       "        text-align: right;\n",
       "    }\n",
       "</style>\n",
       "<table border=\"1\" class=\"dataframe\">\n",
       "  <thead>\n",
       "    <tr style=\"text-align: right;\">\n",
       "      <th></th>\n",
       "      <th>id</th>\n",
       "      <th>id2</th>\n",
       "      <th>v1</th>\n",
       "      <th>c1</th>\n",
       "      <th>v2</th>\n",
       "      <th>v3</th>\n",
       "    </tr>\n",
       "  </thead>\n",
       "  <tbody>\n",
       "    <tr>\n",
       "      <th>0</th>\n",
       "      <td>1</td>\n",
       "      <td>1</td>\n",
       "      <td>426.0</td>\n",
       "      <td>1</td>\n",
       "      <td>23.2</td>\n",
       "      <td>2015-02-04 17:51:00</td>\n",
       "    </tr>\n",
       "    <tr>\n",
       "      <th>1</th>\n",
       "      <td>1</td>\n",
       "      <td>1</td>\n",
       "      <td>426.0</td>\n",
       "      <td>1</td>\n",
       "      <td>23.2</td>\n",
       "      <td>2015-02-04 17:51:00</td>\n",
       "    </tr>\n",
       "    <tr>\n",
       "      <th>2</th>\n",
       "      <td>2</td>\n",
       "      <td>2</td>\n",
       "      <td>429.5</td>\n",
       "      <td>1</td>\n",
       "      <td>23.1</td>\n",
       "      <td>2015-02-04 17:51:59</td>\n",
       "    </tr>\n",
       "    <tr>\n",
       "      <th>3</th>\n",
       "      <td>2</td>\n",
       "      <td>2</td>\n",
       "      <td>429.5</td>\n",
       "      <td>1</td>\n",
       "      <td>23.1</td>\n",
       "      <td>2015-02-04 17:51:59</td>\n",
       "    </tr>\n",
       "    <tr>\n",
       "      <th>4</th>\n",
       "      <td>3</td>\n",
       "      <td>3</td>\n",
       "      <td>426.0</td>\n",
       "      <td>1</td>\n",
       "      <td>23.1</td>\n",
       "      <td>2015-02-04 17:53:00</td>\n",
       "    </tr>\n",
       "  </tbody>\n",
       "</table>\n",
       "</div>"
      ],
      "text/plain": [
       "   id  id2     v1  c1    v2                   v3\n",
       "0   1    1  426.0   1  23.2  2015-02-04 17:51:00\n",
       "1   1    1  426.0   1  23.2  2015-02-04 17:51:00\n",
       "2   2    2  429.5   1  23.1  2015-02-04 17:51:59\n",
       "3   2    2  429.5   1  23.1  2015-02-04 17:51:59\n",
       "4   3    3  426.0   1  23.1  2015-02-04 17:53:00"
      ]
     },
     "execution_count": 5,
     "metadata": {},
     "output_type": "execute_result"
    }
   ],
   "source": [
    "df.head()"
   ]
  },
  {
   "cell_type": "markdown",
   "id": "00954280-4ded-4a44-8331-a98beb14de1a",
   "metadata": {},
   "source": [
    "## Buscando y eliminando columnas duplicadas"
   ]
  },
  {
   "cell_type": "code",
   "execution_count": 6,
   "id": "e7cead17-e1db-4d05-a17d-4d9b08403a3c",
   "metadata": {},
   "outputs": [
    {
     "name": "stdout",
     "output_type": "stream",
     "text": [
      "Número de registros duplicados entre id y id2: 17286\n",
      "Número total de registros: 17286\n"
     ]
    }
   ],
   "source": [
    "print(f\"Número de registros duplicados entre id y id2: {(df[\"id\"] == df[\"id2\"]).sum()}\")\n",
    "print(f\"Número total de registros: {len(df)}\")"
   ]
  },
  {
   "cell_type": "code",
   "execution_count": 7,
   "id": "62dfdb34-4289-4a04-a12b-5bf54983fa39",
   "metadata": {},
   "outputs": [],
   "source": [
    "df.drop([\"id2\"], axis=1, inplace=True)"
   ]
  },
  {
   "cell_type": "code",
   "execution_count": 8,
   "id": "4ebd3b87-7666-4277-adb3-9b6414fcfe61",
   "metadata": {},
   "outputs": [
    {
     "name": "stdout",
     "output_type": "stream",
     "text": [
      "Registros duplicados: 8143\n"
     ]
    }
   ],
   "source": [
    "print(f\"Registros duplicados: {len(df) - len(df.drop_duplicates())}\")"
   ]
  },
  {
   "cell_type": "code",
   "execution_count": 9,
   "id": "071c3bb0-84bd-4997-ab36-4d87ef981174",
   "metadata": {},
   "outputs": [],
   "source": [
    "df.drop_duplicates(inplace=True)"
   ]
  },
  {
   "cell_type": "code",
   "execution_count": 10,
   "id": "df78bddd-0186-42c5-b11c-8cc9917f6ee8",
   "metadata": {},
   "outputs": [
    {
     "name": "stdout",
     "output_type": "stream",
     "text": [
      "Número de registros sin datos duplicados: 9143\n"
     ]
    }
   ],
   "source": [
    "print(f\"Número de registros sin datos duplicados: {len(df)}\")"
   ]
  },
  {
   "cell_type": "markdown",
   "id": "bb8b5acb-e136-41fb-bc83-d7761be853f2",
   "metadata": {},
   "source": [
    "## Identificación de valores Nulos"
   ]
  },
  {
   "cell_type": "code",
   "execution_count": 11,
   "id": "1f9bfd50-24cf-412c-8d58-6e0d0eaed7b4",
   "metadata": {},
   "outputs": [
    {
     "data": {
      "text/plain": [
       "<Axes: >"
      ]
     },
     "execution_count": 11,
     "metadata": {},
     "output_type": "execute_result"
    },
    {
     "data": {
      "image/png": "[encoded data removed]",
      "text/plain": [
       "<Figure size 640x480 with 2 Axes>"
      ]
     },
     "metadata": {},
     "output_type": "display_data"
    }
   ],
   "source": [
    "sns.heatmap(df.isnull())"
   ]
  },
  {
   "cell_type": "code",
   "execution_count": 12,
   "id": "d3d9996a-2af2-4549-9352-b226d5ec869f",
   "metadata": {},
   "outputs": [
    {
     "data": {
      "text/plain": [
       "id       0\n",
       "v1       0\n",
       "c1       0\n",
       "v2       0\n",
       "v3    1000\n",
       "dtype: int64"
      ]
     },
     "execution_count": 12,
     "metadata": {},
     "output_type": "execute_result"
    }
   ],
   "source": [
    "df.isnull().sum()"
   ]
  },
  {
   "cell_type": "code",
   "execution_count": 13,
   "id": "0471790f-0dab-46d5-957c-6e2262b0a288",
   "metadata": {},
   "outputs": [
    {
     "name": "stdout",
     "output_type": "stream",
     "text": [
      "Número de valores nulos en v3: 1000\n"
     ]
    }
   ],
   "source": [
    "print(f\"Número de valores nulos en v3: {df[\"v3\"].isnull().sum()}\")"
   ]
  },
  {
   "cell_type": "code",
   "execution_count": 14,
   "id": "60061b06-a053-45b4-8224-2d4215af4eb2",
   "metadata": {},
   "outputs": [
    {
     "name": "stdout",
     "output_type": "stream",
     "text": [
      "Número de valores nulos en la clase '0': 799\n",
      "Número de valores nulos en la clase '1': 201\n"
     ]
    }
   ],
   "source": [
    "class0 = df[df['v3'].isnull()].groupby('c1').size()[0]\n",
    "class1 = df[df['v3'].isnull()].groupby('c1').size()[1]\n",
    "\n",
    "print(f\"Número de valores nulos en la clase '0': {class0}\")\n",
    "print(f\"Número de valores nulos en la clase '1': {class1}\")"
   ]
  },
  {
   "cell_type": "code",
   "execution_count": 15,
   "id": "8e253ffa-6789-4cb0-b783-1a0289af2b11",
   "metadata": {},
   "outputs": [
    {
     "data": {
      "image/png": "[encoded data removed]",
      "text/plain": [
       "<Figure size 800x400 with 1 Axes>"
      ]
     },
     "metadata": {},
     "output_type": "display_data"
    }
   ],
   "source": [
    "totalClass = df[\"c1\"].value_counts()\n",
    "nullClass = df[df['v3'].isnull()].groupby('c1').size()\n",
    "nullsPercent = (nullClass / totalClass)*100\n",
    "\n",
    "plt.figure(figsize=(8, 4))\n",
    "nullsPercent.plot(kind='bar', color='skyblue')\n",
    "plt.title('Porcentaje de valores Nulos por Clase')\n",
    "plt.xlabel('Clase')\n",
    "plt.ylabel('Porcentaje (%)')\n",
    "plt.show()"
   ]
  },
  {
   "cell_type": "markdown",
   "id": "5452c95a-8c5c-409e-a5cb-a41a0749b564",
   "metadata": {},
   "source": [
    "## Identificación de Outliers"
   ]
  },
  {
   "cell_type": "code",
   "execution_count": 16,
   "id": "991fd35f-6e3c-4983-ac5c-930d54f53d09",
   "metadata": {},
   "outputs": [
    {
     "data": {
      "image/png": "[encoded data removed]",
      "text/plain": [
       "<Figure size 640x480 with 1 Axes>"
      ]
     },
     "metadata": {},
     "output_type": "display_data"
    }
   ],
   "source": [
    "sns.boxplot(df.drop([\"c1\"], axis=1))\n",
    "plt.title(\"Boxplot para detectar outlier\")\n",
    "plt.show()"
   ]
  },
  {
   "cell_type": "code",
   "execution_count": 17,
   "id": "19f6cf87-9fb0-4364-8bc3-e47dbfe8121f",
   "metadata": {},
   "outputs": [
    {
     "name": "stdout",
     "output_type": "stream",
     "text": [
      "Número de outliers detectados: 20\n",
      "Porcentaje de outliers: 0.22\n"
     ]
    }
   ],
   "source": [
    "quantile1 = df[\"v1\"].quantile(0.25)\n",
    "quantile3 = df[\"v1\"].quantile(0.75)\n",
    "\n",
    "iqr = quantile3- quantile1\n",
    "upperFence = quantile3 + 1.5 * iqr\n",
    "lowerFence = quantile1 - 1.5 * iqr\n",
    "\n",
    "outliers = df[(df[\"v1\"] < lowerFence) | (df[\"v1\"] > upperFence)]\n",
    "\n",
    "print(f\"Número de outliers detectados: {len(outliers)}\")\n",
    "print(f\"Porcentaje de outliers: {round(len(outliers)*100/len(df),2)}\")"
   ]
  },
  {
   "cell_type": "code",
   "execution_count": 18,
   "id": "b6eec2dc-4d0a-45d7-a0e2-cc5a0fd4e970",
   "metadata": {},
   "outputs": [],
   "source": [
    "df = df[(df[\"v1\"] <= upperFence) & (df[\"v1\"] >= lowerFence)]"
   ]
  },
  {
   "cell_type": "markdown",
   "id": "f72fb6c5-69e9-48ed-be99-12ece7a34e2d",
   "metadata": {},
   "source": [
    "## Detección de correlaciones (Pearson)"
   ]
  },
  {
   "cell_type": "code",
   "execution_count": 19,
   "id": "04916e2e-cd1e-4eff-b55c-90d1bdb6834a",
   "metadata": {},
   "outputs": [],
   "source": [
    "df[\"v3\"] = pd.to_datetime(df[\"v3\"])"
   ]
  },
  {
   "cell_type": "code",
   "execution_count": 20,
   "id": "e530ac05-790d-4975-a048-63afca369888",
   "metadata": {},
   "outputs": [],
   "source": [
    "df[\"year\"] = df[\"v3\"].dt.year\n",
    "df[\"month\"] = df[\"v3\"].dt.month\n",
    "df[\"day\"] = df[\"v3\"].dt.day\n",
    "df[\"hour\"] = df[\"v3\"].dt.hour\n",
    "df[\"minute\"] = df[\"v3\"].dt.minute"
   ]
  },
  {
   "cell_type": "code",
   "execution_count": 21,
   "id": "190c8e91-dc76-46de-b01f-0c0f20d34db1",
   "metadata": {
    "scrolled": true
   },
   "outputs": [
    {
     "data": {
      "image/png": "[encoded data removed]",
      "text/plain": [
       "<Figure size 640x480 with 2 Axes>"
      ]
     },
     "metadata": {},
     "output_type": "display_data"
    }
   ],
   "source": [
    "corr = df.drop([\"v3\"], axis=1).corr()\n",
    "\n",
    "sns.heatmap(corr)\n",
    "plt.title(\"Heatmap de correlaciones\")\n",
    "plt.show()"
   ]
  },
  {
   "cell_type": "code",
   "execution_count": 22,
   "id": "d9c71f82-6cbb-4fe9-8bd1-4cf4e7f57ae7",
   "metadata": {},
   "outputs": [
    {
     "data": {
      "text/html": [
       "<div>\n",
       "<style scoped>\n",
       "    .dataframe tbody tr th:only-of-type {\n",
       "        vertical-align: middle;\n",
       "    }\n",
       "\n",
       "    .dataframe tbody tr th {\n",
       "        vertical-align: top;\n",
       "    }\n",
       "\n",
       "    .dataframe thead th {\n",
       "        text-align: right;\n",
       "    }\n",
       "</style>\n",
       "<table border=\"1\" class=\"dataframe\">\n",
       "  <thead>\n",
       "    <tr style=\"text-align: right;\">\n",
       "      <th></th>\n",
       "      <th>id</th>\n",
       "      <th>v1</th>\n",
       "      <th>c1</th>\n",
       "      <th>v2</th>\n",
       "      <th>year</th>\n",
       "      <th>month</th>\n",
       "      <th>day</th>\n",
       "      <th>hour</th>\n",
       "      <th>minute</th>\n",
       "    </tr>\n",
       "  </thead>\n",
       "  <tbody>\n",
       "    <tr>\n",
       "      <th>id</th>\n",
       "      <td>1.000000</td>\n",
       "      <td>-0.119980</td>\n",
       "      <td>-0.098103</td>\n",
       "      <td>-0.440261</td>\n",
       "      <td>NaN</td>\n",
       "      <td>NaN</td>\n",
       "      <td>0.984278</td>\n",
       "      <td>-0.054410</td>\n",
       "      <td>-0.000330</td>\n",
       "    </tr>\n",
       "    <tr>\n",
       "      <th>v1</th>\n",
       "      <td>-0.119980</td>\n",
       "      <td>1.000000</td>\n",
       "      <td>0.916015</td>\n",
       "      <td>0.651672</td>\n",
       "      <td>NaN</td>\n",
       "      <td>NaN</td>\n",
       "      <td>-0.128734</td>\n",
       "      <td>0.086029</td>\n",
       "      <td>0.022273</td>\n",
       "    </tr>\n",
       "    <tr>\n",
       "      <th>c1</th>\n",
       "      <td>-0.098103</td>\n",
       "      <td>0.916015</td>\n",
       "      <td>1.000000</td>\n",
       "      <td>0.536724</td>\n",
       "      <td>NaN</td>\n",
       "      <td>NaN</td>\n",
       "      <td>-0.106491</td>\n",
       "      <td>0.079571</td>\n",
       "      <td>0.015935</td>\n",
       "    </tr>\n",
       "    <tr>\n",
       "      <th>v2</th>\n",
       "      <td>-0.440261</td>\n",
       "      <td>0.651672</td>\n",
       "      <td>0.536724</td>\n",
       "      <td>1.000000</td>\n",
       "      <td>NaN</td>\n",
       "      <td>NaN</td>\n",
       "      <td>-0.474408</td>\n",
       "      <td>0.260482</td>\n",
       "      <td>-0.004273</td>\n",
       "    </tr>\n",
       "    <tr>\n",
       "      <th>year</th>\n",
       "      <td>NaN</td>\n",
       "      <td>NaN</td>\n",
       "      <td>NaN</td>\n",
       "      <td>NaN</td>\n",
       "      <td>NaN</td>\n",
       "      <td>NaN</td>\n",
       "      <td>NaN</td>\n",
       "      <td>NaN</td>\n",
       "      <td>NaN</td>\n",
       "    </tr>\n",
       "    <tr>\n",
       "      <th>month</th>\n",
       "      <td>NaN</td>\n",
       "      <td>NaN</td>\n",
       "      <td>NaN</td>\n",
       "      <td>NaN</td>\n",
       "      <td>NaN</td>\n",
       "      <td>NaN</td>\n",
       "      <td>NaN</td>\n",
       "      <td>NaN</td>\n",
       "      <td>NaN</td>\n",
       "    </tr>\n",
       "    <tr>\n",
       "      <th>day</th>\n",
       "      <td>0.984278</td>\n",
       "      <td>-0.128734</td>\n",
       "      <td>-0.106491</td>\n",
       "      <td>-0.474408</td>\n",
       "      <td>NaN</td>\n",
       "      <td>NaN</td>\n",
       "      <td>1.000000</td>\n",
       "      <td>-0.229771</td>\n",
       "      <td>-0.008168</td>\n",
       "    </tr>\n",
       "    <tr>\n",
       "      <th>hour</th>\n",
       "      <td>-0.054410</td>\n",
       "      <td>0.086029</td>\n",
       "      <td>0.079571</td>\n",
       "      <td>0.260482</td>\n",
       "      <td>NaN</td>\n",
       "      <td>NaN</td>\n",
       "      <td>-0.229771</td>\n",
       "      <td>1.000000</td>\n",
       "      <td>0.003730</td>\n",
       "    </tr>\n",
       "    <tr>\n",
       "      <th>minute</th>\n",
       "      <td>-0.000330</td>\n",
       "      <td>0.022273</td>\n",
       "      <td>0.015935</td>\n",
       "      <td>-0.004273</td>\n",
       "      <td>NaN</td>\n",
       "      <td>NaN</td>\n",
       "      <td>-0.008168</td>\n",
       "      <td>0.003730</td>\n",
       "      <td>1.000000</td>\n",
       "    </tr>\n",
       "  </tbody>\n",
       "</table>\n",
       "</div>"
      ],
      "text/plain": [
       "              id        v1        c1        v2  year  month       day  \\\n",
       "id      1.000000 -0.119980 -0.098103 -0.440261   NaN    NaN  0.984278   \n",
       "v1     -0.119980  1.000000  0.916015  0.651672   NaN    NaN -0.128734   \n",
       "c1     -0.098103  0.916015  1.000000  0.536724   NaN    NaN -0.106491   \n",
       "v2     -0.440261  0.651672  0.536724  1.000000   NaN    NaN -0.474408   \n",
       "year         NaN       NaN       NaN       NaN   NaN    NaN       NaN   \n",
       "month        NaN       NaN       NaN       NaN   NaN    NaN       NaN   \n",
       "day     0.984278 -0.128734 -0.106491 -0.474408   NaN    NaN  1.000000   \n",
       "hour   -0.054410  0.086029  0.079571  0.260482   NaN    NaN -0.229771   \n",
       "minute -0.000330  0.022273  0.015935 -0.004273   NaN    NaN -0.008168   \n",
       "\n",
       "            hour    minute  \n",
       "id     -0.054410 -0.000330  \n",
       "v1      0.086029  0.022273  \n",
       "c1      0.079571  0.015935  \n",
       "v2      0.260482 -0.004273  \n",
       "year         NaN       NaN  \n",
       "month        NaN       NaN  \n",
       "day    -0.229771 -0.008168  \n",
       "hour    1.000000  0.003730  \n",
       "minute  0.003730  1.000000  "
      ]
     },
     "execution_count": 22,
     "metadata": {},
     "output_type": "execute_result"
    }
   ],
   "source": [
    "corr"
   ]
  },
  {
   "cell_type": "markdown",
   "id": "3c258c0c-9ba7-4b5f-b94b-8588c4fd1122",
   "metadata": {},
   "source": [
    "### Eliminando caracteristicas no relevantes"
   ]
  },
  {
   "cell_type": "code",
   "execution_count": 23,
   "id": "f1c3181f-b3dd-481e-a7bd-4c9e8187d605",
   "metadata": {},
   "outputs": [],
   "source": [
    "df.drop([\"year\", \"month\", \"minute\", \"hour\", \"v3\"], axis=True, inplace=True)"
   ]
  },
  {
   "cell_type": "code",
   "execution_count": 24,
   "id": "15c64650-33b5-45ea-b606-aa84d353c146",
   "metadata": {},
   "outputs": [],
   "source": [
    "def impute_mode(series):\n",
    "    return series.mode()[0]"
   ]
  },
  {
   "cell_type": "code",
   "execution_count": 25,
   "id": "aaf53952-399d-443b-89ee-fc0696d7f78d",
   "metadata": {},
   "outputs": [],
   "source": [
    "df['day'] = df.groupby('id')['day'].transform(lambda x: x.fillna(impute_mode(x)))"
   ]
  },
  {
   "cell_type": "code",
   "execution_count": 26,
   "id": "5de8eae3-b8b5-4a10-93dc-ad5a921eac9b",
   "metadata": {},
   "outputs": [
    {
     "data": {
      "text/html": [
       "<div>\n",
       "<style scoped>\n",
       "    .dataframe tbody tr th:only-of-type {\n",
       "        vertical-align: middle;\n",
       "    }\n",
       "\n",
       "    .dataframe tbody tr th {\n",
       "        vertical-align: top;\n",
       "    }\n",
       "\n",
       "    .dataframe thead th {\n",
       "        text-align: right;\n",
       "    }\n",
       "</style>\n",
       "<table border=\"1\" class=\"dataframe\">\n",
       "  <thead>\n",
       "    <tr style=\"text-align: right;\">\n",
       "      <th></th>\n",
       "      <th>id</th>\n",
       "      <th>v1</th>\n",
       "      <th>c1</th>\n",
       "      <th>v2</th>\n",
       "      <th>day</th>\n",
       "    </tr>\n",
       "  </thead>\n",
       "  <tbody>\n",
       "    <tr>\n",
       "      <th>id</th>\n",
       "      <td>1.000000</td>\n",
       "      <td>-0.119980</td>\n",
       "      <td>-0.098103</td>\n",
       "      <td>-0.440261</td>\n",
       "      <td>0.984163</td>\n",
       "    </tr>\n",
       "    <tr>\n",
       "      <th>v1</th>\n",
       "      <td>-0.119980</td>\n",
       "      <td>1.000000</td>\n",
       "      <td>0.916015</td>\n",
       "      <td>0.651672</td>\n",
       "      <td>-0.132705</td>\n",
       "    </tr>\n",
       "    <tr>\n",
       "      <th>c1</th>\n",
       "      <td>-0.098103</td>\n",
       "      <td>0.916015</td>\n",
       "      <td>1.000000</td>\n",
       "      <td>0.536724</td>\n",
       "      <td>-0.110109</td>\n",
       "    </tr>\n",
       "    <tr>\n",
       "      <th>v2</th>\n",
       "      <td>-0.440261</td>\n",
       "      <td>0.651672</td>\n",
       "      <td>0.536724</td>\n",
       "      <td>1.000000</td>\n",
       "      <td>-0.475176</td>\n",
       "    </tr>\n",
       "    <tr>\n",
       "      <th>day</th>\n",
       "      <td>0.984163</td>\n",
       "      <td>-0.132705</td>\n",
       "      <td>-0.110109</td>\n",
       "      <td>-0.475176</td>\n",
       "      <td>1.000000</td>\n",
       "    </tr>\n",
       "  </tbody>\n",
       "</table>\n",
       "</div>"
      ],
      "text/plain": [
       "           id        v1        c1        v2       day\n",
       "id   1.000000 -0.119980 -0.098103 -0.440261  0.984163\n",
       "v1  -0.119980  1.000000  0.916015  0.651672 -0.132705\n",
       "c1  -0.098103  0.916015  1.000000  0.536724 -0.110109\n",
       "v2  -0.440261  0.651672  0.536724  1.000000 -0.475176\n",
       "day  0.984163 -0.132705 -0.110109 -0.475176  1.000000"
      ]
     },
     "execution_count": 26,
     "metadata": {},
     "output_type": "execute_result"
    }
   ],
   "source": [
    "df.corr()"
   ]
  },
  {
   "cell_type": "markdown",
   "id": "b0acdb41-8e52-4932-b9a5-20ffa355d66e",
   "metadata": {},
   "source": [
    "## Comprobando el balance entre clases"
   ]
  },
  {
   "cell_type": "code",
   "execution_count": 27,
   "id": "e17b5cfa-b587-4429-9f06-c308f7a5c9ed",
   "metadata": {},
   "outputs": [
    {
     "data": {
      "image/png": "[encoded data removed]",
      "text/plain": [
       "<Figure size 1400x500 with 2 Axes>"
      ]
     },
     "metadata": {},
     "output_type": "display_data"
    }
   ],
   "source": [
    "valueCounts = df[\"c1\"].astype(str).value_counts()\n",
    "labelsName = valueCounts.index\n",
    "percentages = (valueCounts/valueCounts.sum()) * 100\n",
    "\n",
    "fig, axs = plt.subplots(1, 2, figsize=(14, 5))\n",
    "\n",
    "axs[0].bar(labelsName, valueCounts)\n",
    "axs[0].set_title('Registros por Clase')\n",
    "axs[0].set_xlabel('Clase')\n",
    "axs[0].set_ylabel('Frecuencia')\n",
    "\n",
    "axs[1].bar(labelsName, percentages)\n",
    "axs[1].set_title('Porcentaje de registros por Clase')\n",
    "axs[1].set_xlabel('Clase')\n",
    "axs[1].set_ylabel('Porcentaje (%)')\n",
    "\n",
    "plt.tight_layout()\n",
    "plt.show()"
   ]
  },
  {
   "cell_type": "markdown",
   "id": "30571c29-a3f3-4b9d-834d-2a817af6841e",
   "metadata": {},
   "source": [
    "## Entrenamiento del modelo y comparación del rendimiento"
   ]
  },
  {
   "cell_type": "code",
   "execution_count": 28,
   "id": "c88750ad-d874-435d-977e-ed54c9639114",
   "metadata": {
    "scrolled": true
   },
   "outputs": [
    {
     "name": "stdout",
     "output_type": "stream",
     "text": [
      "XGBoost Reporte:\n",
      "              precision    recall  f1-score   support\n",
      "\n",
      "           0       1.00      0.99      1.00      1481\n",
      "           1       0.96      1.00      0.98       344\n",
      "\n",
      "    accuracy                           0.99      1825\n",
      "   macro avg       0.98      1.00      0.99      1825\n",
      "weighted avg       0.99      0.99      0.99      1825\n",
      "\n",
      "SVM Reporte:\n",
      "              precision    recall  f1-score   support\n",
      "\n",
      "           0       1.00      0.98      0.99      1481\n",
      "           1       0.93      1.00      0.96       344\n",
      "\n",
      "    accuracy                           0.99      1825\n",
      "   macro avg       0.97      0.99      0.98      1825\n",
      "weighted avg       0.99      0.99      0.99      1825\n",
      "\n",
      "Random Forest Reporte:\n",
      "              precision    recall  f1-score   support\n",
      "\n",
      "           0       1.00      1.00      1.00      1481\n",
      "           1       0.98      1.00      0.99       344\n",
      "\n",
      "    accuracy                           1.00      1825\n",
      "   macro avg       0.99      1.00      0.99      1825\n",
      "weighted avg       1.00      1.00      1.00      1825\n",
      "\n"
     ]
    }
   ],
   "source": [
    "X = df.drop([\"c1\"], axis=1)\n",
    "y = df[\"c1\"]\n",
    "\n",
    "X_train, X_test, y_train, y_test = train_test_split(X, y, test_size=0.2, random_state=42)\n",
    "\n",
    "numeric_features = X.select_dtypes(include=['int64', 'float64']).columns\n",
    "\n",
    "preprocessor = ColumnTransformer(\n",
    "    transformers=[\n",
    "        ('num', StandardScaler(), numeric_features)\n",
    "    ])\n",
    "\n",
    "smote = SMOTE(random_state=42)\n",
    "\n",
    "classifiers = {\n",
    "    'XGBoost': xgb.XGBClassifier(eval_metric='mlogloss'),\n",
    "    'SVM': SVC(),\n",
    "    'Random Forest': RandomForestClassifier()\n",
    "}\n",
    "\n",
    "for name, classifier in classifiers.items():\n",
    "    pipeline = ImbPipeline(steps=[('preprocessor', preprocessor),\n",
    "                                  ('smote', smote),\n",
    "                                  ('classifier', classifier)])\n",
    "    pipeline.fit(X_train, y_train)\n",
    "    y_pred = pipeline.predict(X_test)\n",
    "    \n",
    "    with open(\"../data/\"+name.replace(\" \",\"_\")+\"_model.pkl\", 'wb') as file:\n",
    "        pickle.dump(pipeline, file)\n",
    "        \n",
    "    print(f\"{name} Reporte:\\n{classification_report(y_test, y_pred)}\")\n"
   ]
  },
  {
   "cell_type": "markdown",
   "id": "7f2034dc-51ab-40fe-929f-5e427c5091c8",
   "metadata": {},
   "source": [
    "## Validación cruzada para evaluar Overfitting"
   ]
  },
  {
   "cell_type": "code",
   "execution_count": 29,
   "id": "216048f8-79f1-417b-9c8a-4a9ca44b0e5b",
   "metadata": {},
   "outputs": [
    {
     "name": "stdout",
     "output_type": "stream",
     "text": [
      "XGBoost - CV Accuracy: 0.99 (+/- 0.01)\n",
      "SVM - CV Accuracy: 0.99 (+/- 0.01)\n",
      "Random Forest - CV Accuracy: 0.99 (+/- 0.00)\n"
     ]
    }
   ],
   "source": [
    "for name, classifier in classifiers.items():\n",
    "    temp_pipeline = ImbPipeline(steps=[\n",
    "        ('preprocessor', preprocessor),\n",
    "        ('smote', smote),\n",
    "        ('classifier', classifier)\n",
    "    ])\n",
    "\n",
    "    cv_scores = cross_val_score(temp_pipeline, X, y, cv=5, scoring='accuracy')\n",
    "\n",
    "    print(f\"{name} - CV Accuracy: {cv_scores.mean():.2f} (+/- {cv_scores.std():.2f})\")"
   ]
  }
 ],
 "metadata": {
  "kernelspec": {
   "display_name": "Python 3 (ipykernel)",
   "language": "python",
   "name": "python3"
  },
  "language_info": {
   "codemirror_mode": {
    "name": "ipython",
    "version": 3
   },
   "file_extension": ".py",
   "mimetype": "text/x-python",
   "name": "python",
   "nbconvert_exporter": "python",
   "pygments_lexer": "ipython3",
   "version": "3.12.7"
  }
 },
 "nbformat": 4,
 "nbformat_minor": 5
}
